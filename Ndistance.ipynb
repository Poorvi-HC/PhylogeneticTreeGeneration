{
 "cells": [
  {
   "cell_type": "code",
   "execution_count": 1,
   "metadata": {},
   "outputs": [],
   "source": [
    "# # Install a conda package in the current Jupyter kernel\n",
    "# import sys\n",
    "# !conda install --yes --prefix {sys.prefix} numpy"
   ]
  },
  {
   "cell_type": "code",
   "execution_count": 2,
   "metadata": {},
   "outputs": [],
   "source": [
    "# pip install alignment"
   ]
  },
  {
   "cell_type": "code",
   "execution_count": 3,
   "metadata": {},
   "outputs": [],
   "source": [
    "import csv\n",
    "\n",
    "# dictionary for naming sequences\n",
    "seq = {}\n",
    "ch = \"A\"\n",
    "idx = 0"
   ]
  },
  {
   "cell_type": "code",
   "execution_count": 4,
   "metadata": {},
   "outputs": [
    {
     "name": "stdout",
     "output_type": "stream",
     "text": [
      "['ATATAAATATGGGAAAGAGAATGGGGAAATTTCTACCAGTCTTCATCTCTGAGAGCAAACTTCTCTGCATCTCTTTCTCTCTTCTCTGGGCCTCCCCCAGCTCATCATGGCTCTCTGGATCCGATCACTGCCTCTTCTGGCTCTCCTTGTCTTTTCTGGCCCTGGAACCAGCTATGCAGCTGCCAACCAGCACCTCTGTGGCTCCCACTTGGTGGAGGCTCTCTACCTGGTGTGTGGAGAGCGTGGCTTCTTCTACTCCCCCAAAGCCCGACGGGATGTCGAGCAGCCCCTAGTGAGCAGTCCCTTGCGTGGCGAGGCAGGAGTGCTGCCTTTCCAGCAGGAGGAATACGAGAAAGTCAAGCGAGGGATTGTTGAGCAATGCTGCCATAACACGTGTTCCCTCTACCAACTGGAGAACTACTGCAACTAGCCAAGAAGCCGGAAGCGGGCACAGACATACACTTACTCTATCGCACCTTCAAAGCATTTGAATAAACCTTGTTGGTCTACTGGAAGACTTGTGCC', 'CACCCCGACACGGCCGGCAAACAGGTCGCCATGGCCCTCTGGATGCGCCTCCTGCCCCTGCTGGCCCTGCTGGCCCTCTGGGCGCCCGCGCCCACCCGAGCCTTCGTTAACCAGCACCTGTGTGGCTCCCACCTGGTAGAGGCTCTGTACCTGGTGTGCGGGGAGCGCGGCTTCTTCTACACGCCTAAGGCCCGCCGGGAGGTGGAGGACCTGCAGGTGAGGGACGTGGAGCTGGCCGGGGCGCCTGGCGAGGGCGGCCTGCAGCCCCTGGCCCTGGAGGGGGCCCTGCAGAAGCGAGGCATCGTGGAGCAGTGCTGCACCAGCATCTGCTCCCTCTACCAGCTGGAGAATTACTGCAACTAGGGGCGCGGGGGGCAGGACGTGGCAGCACCTGCTGCAGGTCACGGTGGCCGCAAGCCTTCGGCTCTCTGCACCCCAAGTGATTCAATAAACCCTCTGAATG', 'CCGATGTGCTCTGAAAGCCTGGATGCAAAAACACCTTCTCTTGTCTACCATCTCTACCATTCCTTGTCCTCTGCTGCAAGAACAGTGTGACCATGGCAGTGTGGCTCCAGGCTGGTGCTCTTTTGTTCTTGTTGGCCGTCTCCAGTGTGAACGCTAACGCAGGGGCCCCACAGCATCTGTGTGGATCTCATCTGGTCGATGCCCTCTACCTGGTCTGTGGTCCAACAGGATTCTTCTACAACCCCAAGAGAGATGTTGACCCTCTTATGGGTTTCCTTCCTCCAAAATCTGCCCAGGAAACTGAGGTGGCTGACTTTGCATTTAAAGATCATGCCGAGGTGATAAGGAAGAGAGGCATTGTGGAGCAGTGTTGCCACAAACCCTGCAGTATCTTTGAGCTGCAGAACTACTGTAACTAAAGAACCTGCACATGTCTTGTGACAACTGCCAGTGACTTTACCACCTGTTTGCACACAGGTATCATGGGAATTACGAGAACTAAACAAAAAGTATCTTTTATTTTAAAATAGTTTACTTTT', 'ATGGCCCTGTGGATGCGCCTCCTGCCCCTGCTGGCGCTGCTGGCCCTCTGGGGACCTGACCCAGCCGCAGCCTTTGTGAACCAACACCTGTGCGGCTCACACCTGGTGGAAGCTCTCTACCTAGTGTGCGGGGAACGAGGCTTCTTCTACACACCCAAGACCCGCCGGGAGGCAGAGGACCTGCAGGTGGGGCAGGTGGAGCTGGGCGGGGGCCCTGGTGCAGGCAGCCTGCAGCCCTTGGCCCTGGAGGGGTCCCTGCAGAAGCGTGGCATTGTGGAACAATGCTGTACCAGCATCTGCTCCCTCTACCAGCTGGAGAACTACTGCAACTAG', 'AACCCTAAGTGACCAGCTACAATCATAGACCATCAGCAAGCAGGTCATTGTTCCAACATGGCCCTGTGGATGCGCTTCCTGCCCCTGCTGGCCCTGCTCGTCCTCTGGGAGCCCAAGCCTGCCCAGGCTTTTGTCAAACAGCACCTTTGTGGTCCTCACCTGGTGGAGGCTCTGTACCTGGTGTGTGGGGAACGTGGTTTCTTCTACACACCCAAGTCCCGTCGTGAAGTGGAGGACCCGCAAGTGCCACAACTGGAGCTGGGTGGAGGCCCGGAGGCCGGGGATCTTCAGACCTTGGCACTGGAGGTTGCCCGGCAGAAGCGTGGCATTGTGGATCAGTGCTGCACCAGCATCTGCTCCCTCTACCAACTGGAGAACTACTGCAACTGAGTCCACCACTCCCCGCCCACCCCTCTGCAATGAATAAAGCCTTTGAATGAGCACCAAAAAAAAAAAAAAAAAA', 'AGCCCTCTGGGACCAGCTGTGTTCCCAGGCCACCGGCAAGCAGGTCCTCACCCCCCGCCATGGCCCTGTGGACGCGCCTCCTGCCCCTGCTGGCCCTGCTGGCCCTCTGGGCGCCCGCCCCGGCCCAGGCCTTCGTGAACCAGCACCTGTGCGGCTCCCACCTGGTGGAGGCGCTGTACCTGGTGTGCGGGGAGCGCGGCTTCTTCTACACGCCCAAGGCCCGTCGGGAGGCGGAGAACCCTCAGGCAGGTGCCGTGGAGCTGGGCGGAGGCCTGGGCGGCCTGCAGGCCCTGGCGCTGGAGGGGCCCCCGCAGAAGCGTGGCATCGTGGAGCAGTGCTGCACCAGCATCTGTTCCCTCTACCAGCTGGAGAACTACTGCAACTAGGCCGCCCCTGAGGGCGCCTGCTGCTCCCCGCACCCCAAAACCCAATAAA', 'AGCCCCCCGCCCTCAGGACCGGCTGCATTCGAGGCTGCCAGCAAGCAGGTCCTCGCAGCCCCGCCATGGCCCTGTGGACACGCCTGGCGCCCCTGCTGGCCCTGCTGGCGCTCTGGGCCCCCGCCCCGGCCCGCGCCTTCGTCAACCAGCATCTGTGTGGCTCCCACCTGGTGGAGGCGCTGTACCTGGTGTGCGGAGAGCGCGGCTTCTTCTACACGCCCAAGGCCCGCCGGGAGGTGGAGGGCCCCCAGGTGGGGGCGCTGGAGCTGGCCGGAGGCCCGGGCGCGGGCGGCCTGGAGGGGCCCCCGCAGAAGCGTGGCATCGTGGAGCAGTGCTGTGCCAGCGTCTGCTCGCTCTACCAGCTGGAGAACTACTGTAACTAGGCCTGCCCCCGACACCAATAAACCCCTTGACGAGCCCTGCAAAAAAAAAAA', 'AGCCCTCCAGGACAGGCTGCATCAGAAGAGGCCATCAAGCAGATCACTGTCCTTCTGCCATGGCCCTGTGGATGCGCCTCCTGCCCCTGCTGGTGCTGCTGGCCCTCTGGGGACCTGACCCAGCCTCGGCCTTTGTGAACCAACACCTGTGCGGCTCCCACCTGGTGGAAGCTCTCTACCTAGTGTGCGGGGAACGAGGCTTCTTCTACACACCCAAGACCCGCCGGGAGGCAGAGGACCTGCAGGTGGGGCAGGTGGAGCTGGGCGGGGGCCCTGGTGCAGGCAGCCTGCAGCCCTTGGCCCTGGAGGGGTCCCTGCAGAAGCGTGGTATCGTGGAACAATGCTGTACCAGCATCTGCTCCCTCTACCAGCTGGAGAACTACTGCAACTAGATGGAATAAAGCCCTTGAACCAGC', 'GCATTCTGAGGCATTCTCTAACAGGTTCTCGACCCTCCGCCATGGCCCCGTGGATGCATCTCCTCACCGTGCTGGCCCTGCTGGCCCTCTGGGGACCCAACTCTGTTCAGGCCTATTCCAGCCAGCACCTGTGCGGCTCCAACCTAGTGGAGGCACTGTACATGACATGTGGACGGAGTGGCTTCTATAGACCCCACGACCGCCGAGAGCTGGAGGACCTCCAGGTGGAGCAGGCAGAACTGGGTCTGGAGGCAGGCGGCCTGCAGCCTTCGGCCCTGGAGATGATTCTGCAGAAGCGCGGCATTGTGGATCAGTGCTGTAATAACATTTGCACATTTAACCAGCTGCAGAACTACTGCAATGTCCCTTAGACACCTGCCTTGGGCCTGGCCTGCTGCTCTGCCCTGGCAACCAATAAACCCCTTGAATGAG', 'TCATCGGCTCTGCACCATGGCCTCCCTGGCCGCGCTCCTGCCCCTGCTGGCCCTGCTGGTCCTCTGCAGACTGGATCCTGCCCAGGCCTTCGTCAACCAGCACCTGTGCGGCTCTCACCTGGTGGAGGCGCTGTACCTGGTGTGCGGGGAGCGCGGCTTTTTTTATACACCCAAGTCCCGCCGCGAGGTGGAGGAGCTGCAGGTGGGGCAGGCGGAGCTGGGCGGGGGGCCCGGCGCGGGCGGCCTGCAGCCCTCGGCGCTGGAGCTGGCCCTGCAGAAGCGCGGCATCGTGGAGCAGTGTTGCACCAGCATCTGCTCGCTCTACCAGCTGGAGAACTACTGCAACTAGGGGTGCCCCCCACCCACCCCTGCCCGCGCCCCCCACGCCCCCCGCCCTCGCCCCCACCCAATAAACCCCTCCACGCGCCCCGGG']\n",
      "{'A': '>NM_205222.3 Gallus gallus insulin (INS), mRNA', 'B': '>NM_001130093.2 Canis lupus familiaris insulin (INS), mRNA', 'C': '>KX951416.1 Labeo rohita insulin mRNA, complete cds', 'D': '>BT006808.1 Homo sapiens insulin mRNA, complete cds', 'E': '>NM_019129.3 Rattus norvegicus insulin 1 (Ins1), mRNA', 'F': '>NM_001109772.1 Sus scrofa insulin (INS), mRNA', 'G': '>NM_173926.2 Bos taurus insulin (INS), transcript variant 1, mRNA', 'H': '>NM_001008996.2 Pan troglodytes insulin (INS), mRNA', 'I': '>M57671.1 Octodon degus insulin mRNA, complete cds', 'J': '>U03610.1 Oryctolagus cuniculus New Zealand White insulin mRNA, complete cds'}\n"
     ]
    }
   ],
   "source": [
    "# make a list of lists of each sequence\n",
    "lines = []\n",
    "input = []\n",
    "with open('./Input/Nucleotide.txt', \"r\") as input_file:\n",
    "    for line in input_file.readlines():\n",
    "        lines.append(line.strip())\n",
    "# print(lines)\n",
    "individual_sent = []\n",
    "for ind, sent in enumerate(lines):\n",
    "    if sent == '':\n",
    "        input.append(str(''.join(individual_sent)))\n",
    "        individual_sent = []\n",
    "    elif sent[0] == \">\":\n",
    "        seq[ch] = sent;\n",
    "        ch = chr(ord(ch) + 1)\n",
    "    else:\n",
    "        individual_sent.append(sent)\n",
    "if input[-1] == '':\n",
    "    input.remove('')\n",
    "print(input)\n",
    "print(seq)\n"
   ]
  },
  {
   "cell_type": "code",
   "execution_count": 5,
   "metadata": {},
   "outputs": [],
   "source": [
    "# create header\n",
    "no_of_inputs = len(input)\n",
    "ch = \"A\"\n",
    "header = [\" \"]\n",
    "for i in range(no_of_inputs):\n",
    "    header.append(ch)\n",
    "    ch = chr(ord(ch) + 1)\n",
    "    # chr function converts ascii value to character\n",
    "    # ord function converts character to ascii value"
   ]
  },
  {
   "cell_type": "code",
   "execution_count": 6,
   "metadata": {},
   "outputs": [],
   "source": [
    "# ch = \"A\"\n",
    "#initialize 2D list\n",
    "list_2D = [[0 for i in range(no_of_inputs + 1)] for j in range(no_of_inputs)]\n",
    "\n",
    "# Note if you initialize the list as list_2D = [[0]*n]*n, if you alter 1 value in one list it copies the same for all \n",
    "# lists, because you are multiplying the lists. Multiplication just copies the list again and again with the same address \n",
    "# so any changes made to the original will affect all.\n"
   ]
  },
  {
   "cell_type": "code",
   "execution_count": 7,
   "metadata": {},
   "outputs": [
    {
     "name": "stdout",
     "output_type": "stream",
     "text": [
      "Length of max seq 525\n",
      "Length of min seq 463\n",
      "number of matches: 341\n",
      "Length of aligned sequence: 589\n",
      "No. of mis matches:  248\n"
     ]
    }
   ],
   "source": [
    "# Alignment Matrix code: (How to code alignment matrices)\n",
    "\n",
    "seq1 = \"ATATAAATATGGGAAAGAGAATGGGGAAATTTCTACCAGTCTTCATCTCTGAGAGCAAACTTCTCTGCATCTCTTTCTCTCTTCTCTGGGCCTCCCCCAGCTCATCATGGCTCTCTGGATCCGATCACTGCCTCTTCTGGCTCTCCTTGTCTTTTCTGGCCCTGGAACCAGCTATGCAGCTGCCAACCAGCACCTCTGTGGCTCCCACTTGGTGGAGGCTCTCTACCTGGTGTGTGGAGAGCGTGGCTTCTTCTACTCCCCCAAAGCCCGACGGGATGTCGAGCAGCCCCTAGTGAGCAGTCCCTTGCGTGGCGAGGCAGGAGTGCTGCCTTTCCAGCAGGAGGAATACGAGAAAGTCAAGCGAGGGATTGTTGAGCAATGCTGCCATAACACGTGTTCCCTCTACCAACTGGAGAACTACTGCAACTAGCCAAGAAGCCGGAAGCGGGCACAGACATACACTTACTCTATCGCACCTTCAAAGCATTTGAATAAACCTTGTTGGTCTACTGGAAGACTTGTGCC\"\n",
    "seq2 = \"CACCCCGACACGGCCGGCAAACAGGTCGCCATGGCCCTCTGGATGCGCCTCCTGCCCCTGCTGGCCCTGCTGGCCCTCTGGGCGCCCGCGCCCACCCGAGCCTTCGTTAACCAGCACCTGTGTGGCTCCCACCTGGTAGAGGCTCTGTACCTGGTGTGCGGGGAGCGCGGCTTCTTCTACACGCCTAAGGCCCGCCGGGAGGTGGAGGACCTGCAGGTGAGGGACGTGGAGCTGGCCGGGGCGCCTGGCGAGGGCGGCCTGCAGCCCCTGGCCCTGGAGGGGGCCCTGCAGAAGCGAGGCATCGTGGAGCAGTGCTGCACCAGCATCTGCTCCCTCTACCAGCTGGAGAATTACTGCAACTAGGGGCGCGGGGGGCAGGACGTGGCAGCACCTGCTGCAGGTCACGGTGGCCGCAAGCCTTCGGCTCTCTGCACCCCAAGTGATTCAATAAACCCTCTGAATG\"\n",
    "\n",
    "def get_score(seq1: str, seq2 :str, match: int, mismatch: int, gap: int):\n",
    "    # output format = [score, length of alignment] (List output)\n",
    "\n",
    "    # creating dist matrix\n",
    "    maxi = seq1 if len(seq1)>=len(seq2) else seq2\n",
    "    alt = seq2 if len(seq1)>=len(seq2) else seq1\n",
    "    print(\"Length of max seq\", len(maxi))\n",
    "    print(\"Length of min seq\", len(alt))\n",
    "    size_col = len(maxi) + 1\n",
    "    size_row = len(alt) + 1\n",
    "    matrix = [[0 for i in range(size_col)] for j in range(size_row)]\n",
    "    # print(matrix)\n",
    "\n",
    "    # initializing the dist_matrix:\n",
    "    for row in range(size_row):\n",
    "        for col in range(size_col):\n",
    "            # (col - 1) is the index for maxi\n",
    "            # (row - 1) is the index for alt\n",
    "            if row == 0 or col == 0:\n",
    "                matrix[row][col] = mismatch\n",
    "            # elif row == 0 or col == 0:\n",
    "            #     if row == 0:\n",
    "            #         matrix[row][col] = matrix[row][col - 1] - gap\n",
    "            #     if col == 0:\n",
    "            #         matrix[row][col] = matrix[row - 1][col] - gap\n",
    "            elif maxi[col - 1] == alt[row - 1]:\n",
    "                matrix[row][col] = match\n",
    "            else:\n",
    "                matrix[row][col] = mismatch\n",
    "    \n",
    "    # print(matrix)\n",
    "\n",
    "    # changing the matrix:\n",
    "    movement = {} # dictionary to store the movement movement[to] = from # backtracking dictionary\n",
    "    for row in range(size_row):\n",
    "        for col in range(size_col):\n",
    "            if row == 0 and col == 0:\n",
    "                matrix[row][col] = mismatch\n",
    "            elif row == 0 or col == 0:\n",
    "                if row == 0:\n",
    "                    matrix[row][col] = matrix[row][col - 1] + gap\n",
    "                    movement[str([row, col])] = [row, col - 1]\n",
    "                if col == 0:\n",
    "                    matrix[row][col] = matrix[row - 1][col] + gap\n",
    "                    movement[str([row, col])] = [row - 1, col]\n",
    "            else:\n",
    "                diagonal = matrix[row - 1][col - 1] + matrix[row][col]\n",
    "                left = matrix[row][col - 1] + gap\n",
    "                up = matrix[row - 1][col] + gap\n",
    "                matrix[row][col] = max(diagonal, left, up)\n",
    "                if matrix[row][col] == up:\n",
    "                    movement[str([row,col])] = [row - 1, col]\n",
    "                if matrix[row][col] == left:\n",
    "                    movement[str([row, col])] = [row, col - 1]\n",
    "                if matrix[row][col] == diagonal:\n",
    "                    movement[str([row, col])] = [row - 1, col - 1]\n",
    "    # print(matrix)\n",
    "\n",
    "    # getting score:\n",
    "    score = matrix[size_row - 1][size_col - 1]\n",
    "\n",
    "    # print(score)\n",
    "    # print(movement)\n",
    "\n",
    "    # backtracking:\n",
    "    no_moves = 0 # defined for each sequence to backtrack from the end\n",
    "    temp = [size_row - 1, size_col - 1]\n",
    "    while (temp != [0,0]):\n",
    "        no_moves += 1\n",
    "        temp = movement[str(temp)]\n",
    "    # print(no_moves)\n",
    "    \n",
    "    # return \n",
    "    output = [score, no_moves]\n",
    "    return output\n",
    "\n",
    "output = get_score(seq1, seq2, 1, 0, 0)\n",
    "print(\"number of matches:\", output[0])\n",
    "print(\"Length of aligned sequence:\", output[1])\n",
    "print(\"No. of mis matches: \", (output[1] - output[0]))"
   ]
  },
  {
   "cell_type": "code",
   "execution_count": 8,
   "metadata": {},
   "outputs": [],
   "source": [
    "from alignment.sequence import Sequence\n",
    "from alignment.vocabulary import Vocabulary\n",
    "from alignment.sequencealigner import SimpleScoring, GlobalSequenceAligner\n",
    "\n",
    "def get_percentage(str1:str, str2:str) -> float:\n",
    "    # Create sequences to be aligned.\n",
    "    a = Sequence(str1)\n",
    "    b = Sequence(str2)\n",
    "\n",
    "    # Create a vocabulary and encode the sequences.\n",
    "    v = Vocabulary()\n",
    "    aEncoded = v.encodeSequence(a) # this function assigns integers to each letter in the string.\n",
    "    bEncoded = v.encodeSequence(b)\n",
    "\n",
    "    # Create a scoring and align the sequences using global aligner.\n",
    "    scoring = SimpleScoring(1, 0) # match gap scores to be considered ( mismatch is assumed to be 0 )\n",
    "    aligner = GlobalSequenceAligner(scoring, 0)\n",
    "    score, encodeds = aligner.align(aEncoded, bEncoded, backtrace=True)\n",
    "\n",
    "    # Iterate over optimal alignments and print them.\n",
    "    for encoded in encodeds:\n",
    "        alignment_1 = v.decodeSequenceAlignment(encoded)\n",
    "        # print(alignment_1)\n",
    "        # print('Alignment score:', alignment_1.score)\n",
    "        # print('Percent identity:', alignment_1.percentIdentity())\n",
    "        return (100 - alignment_1.percentIdentity())"
   ]
  },
  {
   "cell_type": "code",
   "execution_count": 9,
   "metadata": {},
   "outputs": [],
   "source": [
    "ch = \"A\"\n",
    "for row in range(no_of_inputs):\n",
    "    list_2D[row][0] = ch\n",
    "    ch = chr(ord(ch) + 1)\n",
    "    for col in range(row + 2,no_of_inputs + 1):\n",
    "        value = round(float(get_percentage(input[row] , input[col - 1])/100),2)\n",
    "        list_2D[row][col] = value\n",
    "        list_2D[col - 1][row + 1] = value"
   ]
  },
  {
   "cell_type": "code",
   "execution_count": null,
   "metadata": {},
   "outputs": [],
   "source": [
    "#write the output in CSV file\n",
    "with open('./Output/Ndistance.csv', 'w') as output_file:\n",
    "    writer = csv.writer(output_file)\n",
    "    writer.writerow(header)\n",
    "    writer.writerows(list_2D)"
   ]
  },
  {
   "cell_type": "code",
   "execution_count": null,
   "metadata": {},
   "outputs": [],
   "source": [
    "# with open('./Output/no_of_inputs.csv','w') as out:\n",
    "#     writer = csv.writer(out)\n",
    "#     writer.writerow([no_of_inputs])"
   ]
  }
 ],
 "metadata": {
  "kernelspec": {
   "display_name": "Python 3.9.7 ('base')",
   "language": "python",
   "name": "python3"
  },
  "language_info": {
   "codemirror_mode": {
    "name": "ipython",
    "version": 3
   },
   "file_extension": ".py",
   "mimetype": "text/x-python",
   "name": "python",
   "nbconvert_exporter": "python",
   "pygments_lexer": "ipython3",
   "version": "3.9.7"
  },
  "orig_nbformat": 4,
  "vscode": {
   "interpreter": {
    "hash": "3b92f9b3851a9e94048552c72080c2bb803dac01b01d2aaa47d87c488ac6e787"
   }
  }
 },
 "nbformat": 4,
 "nbformat_minor": 2
}
